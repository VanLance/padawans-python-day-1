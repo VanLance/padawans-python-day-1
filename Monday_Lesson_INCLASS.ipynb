{
 "cells": [
  {
   "cell_type": "markdown",
   "metadata": {},
   "source": [
    "# Week 2 - Monday Lesson (variable assignment, loops, lists)"
   ]
  },
  {
   "cell_type": "markdown",
   "metadata": {},
   "source": [
    "## Tasks Today:\n",
    "\n",
    "1) Int & Float assignments <br>\n",
    " &nbsp;&nbsp;&nbsp;&nbsp; a) Assigning int <br>\n",
    " &nbsp;&nbsp;&nbsp;&nbsp; b) Assigning float <br>\n",
    " &nbsp;&nbsp;&nbsp;&nbsp; c) Performing Calculations on ints and floats <br>\n",
    " &nbsp;&nbsp;&nbsp;&nbsp;&nbsp;&nbsp;&nbsp;&nbsp; - Addition <br>\n",
    " &nbsp;&nbsp;&nbsp;&nbsp;&nbsp;&nbsp;&nbsp;&nbsp; - Subtraction <br>\n",
    " &nbsp;&nbsp;&nbsp;&nbsp;&nbsp;&nbsp;&nbsp;&nbsp; - Multiplication <br>\n",
    " &nbsp;&nbsp;&nbsp;&nbsp;&nbsp;&nbsp;&nbsp;&nbsp; - Division <br>\n",
    " &nbsp;&nbsp;&nbsp;&nbsp;&nbsp;&nbsp;&nbsp;&nbsp; - Floor Division <br>\n",
    " &nbsp;&nbsp;&nbsp;&nbsp;&nbsp;&nbsp;&nbsp;&nbsp; - Modulo <br>\n",
    " &nbsp;&nbsp;&nbsp;&nbsp;&nbsp;&nbsp;&nbsp;&nbsp; - Exponential <br>\n",
    "2) String Input-Output <br>\n",
    " &nbsp;&nbsp;&nbsp;&nbsp; a) String Assignment <br>\n",
    " &nbsp;&nbsp;&nbsp;&nbsp; b) print() <br>\n",
    " &nbsp;&nbsp;&nbsp;&nbsp; c) String Concatenation <br>\n",
    " &nbsp;&nbsp;&nbsp;&nbsp; d) Type Conversion <br>\n",
    " &nbsp;&nbsp;&nbsp;&nbsp; e) input() <br>\n",
    " &nbsp;&nbsp;&nbsp;&nbsp; f) format() <br>\n",
    " &nbsp;&nbsp;&nbsp;&nbsp; g) Old Way (python 2) <br>\n",
    "3) <b>In-Class Exercise #1</b> <br>\n",
    "4) If Statements <br>\n",
    " &nbsp;&nbsp;&nbsp;&nbsp; a) 'is' keyword <br>\n",
    " &nbsp;&nbsp;&nbsp;&nbsp; b) 'in' keyword <br>\n",
    " &nbsp;&nbsp;&nbsp;&nbsp; c) 'not in' keyword <br>\n",
    "5) <b>In-Class Exercise #2</b> <br>\n",
    "6) Elif Statements <br>\n",
    "7) Else Statements <br>\n",
    "8) <b>In-Class Exercise #3</b> <br>\n",
    "9) For Loops <br>\n",
    " &nbsp;&nbsp;&nbsp;&nbsp; a) Using 'in' keyword <br>\n",
    " &nbsp;&nbsp;&nbsp;&nbsp; b) Continue Statement <br>\n",
    " &nbsp;&nbsp;&nbsp;&nbsp; c) Break Statement <br>\n",
    " &nbsp;&nbsp;&nbsp;&nbsp; d) Pass Statement <br>\n",
    " &nbsp;&nbsp;&nbsp;&nbsp; e) Double For Loops <br>\n",
    "10) While Loops <br>\n",
    " &nbsp;&nbsp;&nbsp;&nbsp; a) Looping 'While True' <br>\n",
    " &nbsp;&nbsp;&nbsp;&nbsp; b) While and For Loops Used Together <br>\n",
    "11) Built-In Functions <br>\n",
    " &nbsp;&nbsp;&nbsp;&nbsp; a) range() <br>\n",
    " &nbsp;&nbsp;&nbsp;&nbsp; b) len() <br>\n",
    " &nbsp;&nbsp;&nbsp;&nbsp; c) help() <br>\n",
    " &nbsp;&nbsp;&nbsp;&nbsp; d) isinstance() <br>\n",
    " &nbsp;&nbsp;&nbsp;&nbsp; e) abs() <br>\n",
    "12) Try and Except <br>\n",
    "13) Lists <br>\n",
    " &nbsp;&nbsp;&nbsp;&nbsp; a) Declaring Lists <br>\n",
    " &nbsp;&nbsp;&nbsp;&nbsp; b) Indexing a List <br>\n",
    " &nbsp;&nbsp;&nbsp;&nbsp; c) .append() <br>\n",
    " &nbsp;&nbsp;&nbsp;&nbsp; d) .insert() <br>\n",
    " &nbsp;&nbsp;&nbsp;&nbsp; e) .pop() <br>\n",
    " &nbsp;&nbsp;&nbsp;&nbsp; f) .remove() <br>\n",
    " &nbsp;&nbsp;&nbsp;&nbsp; g) del() <br>\n",
    " &nbsp;&nbsp;&nbsp;&nbsp; h) Concatenating Two Lists <br>\n",
    " &nbsp;&nbsp;&nbsp;&nbsp; i) Lists Within Lists <br>\n",
    " &nbsp;&nbsp;&nbsp;&nbsp; j) Looping Through Lists <br>"
   ]
  },
  {
   "cell_type": "markdown",
   "metadata": {},
   "source": [
    "### Int & Float Assignments"
   ]
  },
  {
   "cell_type": "markdown",
   "metadata": {},
   "source": [
    "##### Assigning int"
   ]
  },
  {
   "cell_type": "code",
   "execution_count": 3,
   "metadata": {},
   "outputs": [
    {
     "name": "stdout",
     "output_type": "stream",
     "text": [
      "23\n",
      "25\n"
     ]
    }
   ],
   "source": [
    "my_num = 23\n",
    "\n",
    "print(my_num)\n",
    "\n",
    "type(my_num)\n",
    "\n",
    "print(25)"
   ]
  },
  {
   "cell_type": "code",
   "execution_count": null,
   "metadata": {},
   "outputs": [],
   "source": []
  },
  {
   "cell_type": "markdown",
   "metadata": {},
   "source": [
    "##### Assinging float"
   ]
  },
  {
   "cell_type": "code",
   "execution_count": 8,
   "metadata": {},
   "outputs": [
    {
     "name": "stdout",
     "output_type": "stream",
     "text": [
      "10.5\n",
      "<class 'float'>\n"
     ]
    },
    {
     "data": {
      "text/plain": [
       "float"
      ]
     },
     "execution_count": 8,
     "metadata": {},
     "output_type": "execute_result"
    }
   ],
   "source": [
    "my_float = 10.5\n",
    "\n",
    "print(my_float)\n",
    "\n",
    "print(type(my_float))\n",
    "\n",
    "elephant = 10.0\n",
    "\n",
    "type(elephant)"
   ]
  },
  {
   "cell_type": "markdown",
   "metadata": {},
   "source": [
    "#### Performing Calculations on ints and floats"
   ]
  },
  {
   "cell_type": "markdown",
   "metadata": {},
   "source": [
    "##### Addition"
   ]
  },
  {
   "cell_type": "code",
   "execution_count": 51,
   "metadata": {},
   "outputs": [
    {
     "name": "stdout",
     "output_type": "stream",
     "text": [
      "23\n",
      "23\n"
     ]
    },
    {
     "data": {
      "text/plain": [
       "33.5"
      ]
     },
     "execution_count": 51,
     "metadata": {},
     "output_type": "execute_result"
    }
   ],
   "source": [
    "5 + 5\n",
    "print(my_num)\n",
    "my_num + 10\n",
    "print(my_num)\n",
    "my_num + .5\n",
    "\n",
    ".5 + .5\n",
    "\n",
    "my_float + my_num"
   ]
  },
  {
   "cell_type": "code",
   "execution_count": 57,
   "metadata": {},
   "outputs": [
    {
     "name": "stdout",
     "output_type": "stream",
     "text": [
      "73\n"
     ]
    }
   ],
   "source": [
    "# long hand\n",
    "my_num = my_num + 10\n",
    "\n",
    "print(my_num)"
   ]
  },
  {
   "cell_type": "code",
   "execution_count": 58,
   "metadata": {},
   "outputs": [
    {
     "name": "stdout",
     "output_type": "stream",
     "text": [
      "78\n"
     ]
    }
   ],
   "source": [
    "# short hand\n",
    "my_num += 5\n",
    "\n",
    "print(my_num)"
   ]
  },
  {
   "cell_type": "markdown",
   "metadata": {},
   "source": [
    "##### Subtraction"
   ]
  },
  {
   "cell_type": "code",
   "execution_count": 20,
   "metadata": {},
   "outputs": [
    {
     "data": {
      "text/plain": [
       "0.5"
      ]
     },
     "execution_count": 20,
     "metadata": {},
     "output_type": "execute_result"
    }
   ],
   "source": [
    "10 - 5\n",
    "\n",
    "10.5 - .5\n",
    "\n",
    "15 - .5\n",
    "\n",
    "my_num - 3\n",
    "\n",
    "my_float - 10"
   ]
  },
  {
   "cell_type": "markdown",
   "metadata": {},
   "source": [
    "##### Multiplication"
   ]
  },
  {
   "cell_type": "code",
   "execution_count": 24,
   "metadata": {},
   "outputs": [
    {
     "data": {
      "text/plain": [
       "5.0"
      ]
     },
     "execution_count": 24,
     "metadata": {},
     "output_type": "execute_result"
    }
   ],
   "source": [
    "10 * 2\n",
    "\n",
    "my_num * 10\n",
    "\n",
    "my_float * 5\n",
    "\n",
    ".5 * 10"
   ]
  },
  {
   "cell_type": "code",
   "execution_count": 62,
   "metadata": {},
   "outputs": [
    {
     "name": "stdout",
     "output_type": "stream",
     "text": [
      "105.0\n"
     ]
    }
   ],
   "source": [
    "# long hand\n",
    "new_float = 10.5\n",
    "\n",
    "new_float = 10 * new_float\n",
    "\n",
    "print(new_float)"
   ]
  },
  {
   "cell_type": "code",
   "execution_count": 61,
   "metadata": {},
   "outputs": [
    {
     "name": "stdout",
     "output_type": "stream",
     "text": [
      "50\n"
     ]
    }
   ],
   "source": [
    "new_int = 10\n",
    "\n",
    "# short hand\n",
    "new_int *= 5\n",
    "\n",
    "print(new_int)"
   ]
  },
  {
   "cell_type": "markdown",
   "metadata": {},
   "source": [
    "##### Division"
   ]
  },
  {
   "cell_type": "code",
   "execution_count": 32,
   "metadata": {},
   "outputs": [
    {
     "data": {
      "text/plain": [
       "5.25"
      ]
     },
     "execution_count": 32,
     "metadata": {},
     "output_type": "execute_result"
    }
   ],
   "source": [
    "# returns a float\n",
    "25 / 5\n",
    "\n",
    "10.5 / 2\n",
    "\n",
    "my_float / 2"
   ]
  },
  {
   "cell_type": "markdown",
   "metadata": {},
   "source": [
    "##### Floor Division"
   ]
  },
  {
   "cell_type": "code",
   "execution_count": 37,
   "metadata": {},
   "outputs": [
    {
     "data": {
      "text/plain": [
       "5"
      ]
     },
     "execution_count": 37,
     "metadata": {},
     "output_type": "execute_result"
    }
   ],
   "source": [
    "my_float // 2 \n",
    "\n",
    "11 // 2\n",
    "\n",
    "11.0 // 2\n",
    "\n",
    "11 // 2"
   ]
  },
  {
   "cell_type": "markdown",
   "metadata": {},
   "source": [
    "##### Modulo"
   ]
  },
  {
   "cell_type": "code",
   "execution_count": 42,
   "metadata": {},
   "outputs": [
    {
     "data": {
      "text/plain": [
       "1"
      ]
     },
     "execution_count": 42,
     "metadata": {},
     "output_type": "execute_result"
    }
   ],
   "source": [
    "11 % 2\n",
    "    \n",
    "24 % 5\n",
    "\n",
    "10 % 2\n",
    "\n",
    "11 % 2"
   ]
  },
  {
   "cell_type": "markdown",
   "metadata": {},
   "source": [
    "##### Exponential"
   ]
  },
  {
   "cell_type": "code",
   "execution_count": 47,
   "metadata": {},
   "outputs": [
    {
     "data": {
      "text/plain": [
       "12167"
      ]
     },
     "execution_count": 47,
     "metadata": {},
     "output_type": "execute_result"
    }
   ],
   "source": [
    "10 ** 2\n",
    "10 ** 10\n",
    "\n",
    "my_num**3 "
   ]
  },
  {
   "cell_type": "markdown",
   "metadata": {},
   "source": [
    "### String Input-Output"
   ]
  },
  {
   "cell_type": "markdown",
   "metadata": {},
   "source": [
    "##### String Assignment"
   ]
  },
  {
   "cell_type": "code",
   "execution_count": 63,
   "metadata": {},
   "outputs": [
    {
     "name": "stdout",
     "output_type": "stream",
     "text": [
      "<class 'str'>\n",
      "hello world\n"
     ]
    }
   ],
   "source": [
    "my_string = 'hello world'\n",
    "\n",
    "print(type(my_string))\n",
    "\n",
    "print(my_string)"
   ]
  },
  {
   "cell_type": "markdown",
   "metadata": {},
   "source": [
    "##### print() <br>\n",
    "<p>Don't forget about end=' '</p>"
   ]
  },
  {
   "cell_type": "code",
   "execution_count": 74,
   "metadata": {},
   "outputs": [
    {
     "name": "stdout",
     "output_type": "stream",
     "text": [
      "hello world padawans rock\n",
      "Instructor Brandt and Dylan\n"
     ]
    }
   ],
   "source": [
    "print(my_string, end=' ')\n",
    "# default \\n newline\n",
    "print(\"padawans rock\", end = '\\n')\n",
    "\n",
    "print('Instructor ', end = 'Brandt ')\n",
    "print('and Dylan')"
   ]
  },
  {
   "cell_type": "markdown",
   "metadata": {},
   "source": [
    "##### String Concatenation"
   ]
  },
  {
   "cell_type": "code",
   "execution_count": 85,
   "metadata": {},
   "outputs": [
    {
     "name": "stdout",
     "output_type": "stream",
     "text": [
      "Future Devs Padawans 136\n",
      "brandt dylan\n"
     ]
    }
   ],
   "source": [
    "class_string = 'Padawans 136'\n",
    "\n",
    "concat_string = \"Future Devs \"  + class_string\n",
    "\n",
    "print(concat_string)\n",
    "\n",
    "instructor_one = 'brandt'\n",
    "instructor_two = 'dylan'\n",
    "\n",
    "instructors = instructor_one + ' ' + instructor_two\n",
    "\n",
    "print(instructors)"
   ]
  },
  {
   "cell_type": "markdown",
   "metadata": {},
   "source": [
    "##### Type Conversion"
   ]
  },
  {
   "cell_type": "code",
   "execution_count": 104,
   "metadata": {},
   "outputs": [
    {
     "name": "stdout",
     "output_type": "stream",
     "text": [
      "<class 'str'>\n",
      "<class 'str'>\n",
      "<class 'int'>\n"
     ]
    }
   ],
   "source": [
    "type(my_num)\n",
    "\n",
    "str(my_num)\n",
    "\n",
    "my_num = str(my_num) \n",
    "type(my_num)\n",
    "# type error\n",
    "# my_num + 10\n",
    "\n",
    "str(55)\n",
    "\n",
    "type(int('55'))\n",
    "\n",
    "str_num = '23'\n",
    "print(type(str_num))\n",
    "\n",
    "int(str_num)\n",
    "\n",
    "print(type(str_num))\n",
    "\n",
    "num = int(str_num)\n",
    "\n",
    "print(type(num))\n"
   ]
  },
  {
   "cell_type": "markdown",
   "metadata": {},
   "source": [
    "##### input()"
   ]
  },
  {
   "cell_type": "code",
   "execution_count": 112,
   "metadata": {},
   "outputs": [
    {
     "name": "stdout",
     "output_type": "stream",
     "text": [
      "What is your age: 33\n",
      "33 <class 'str'>\n"
     ]
    },
    {
     "data": {
      "text/plain": [
       "34"
      ]
     },
     "execution_count": 112,
     "metadata": {},
     "output_type": "execute_result"
    }
   ],
   "source": [
    "my_age = input('What is your age: ')\n",
    "print(my_age, type(my_age))\n",
    "\n",
    "my_age = int(my_age) + 1"
   ]
  },
  {
   "cell_type": "markdown",
   "metadata": {},
   "source": [
    "##### format()"
   ]
  },
  {
   "cell_type": "code",
   "execution_count": 119,
   "metadata": {},
   "outputs": [
    {
     "data": {
      "text/plain": [
       "\"dylan you are 33 year's old\""
      ]
     },
     "execution_count": 119,
     "metadata": {},
     "output_type": "execute_result"
    }
   ],
   "source": [
    "instructor_two = 'dylan'\n",
    "\n",
    "'{} You are {} year\\'s old'.format(instructor_two, 33)\n",
    "\n",
    "f'{instructor_two} you are {33} year\\'s old'"
   ]
  },
  {
   "cell_type": "code",
   "execution_count": null,
   "metadata": {},
   "outputs": [],
   "source": []
  },
  {
   "cell_type": "markdown",
   "metadata": {},
   "source": [
    "##### Old Way (python 2)"
   ]
  },
  {
   "cell_type": "code",
   "execution_count": 127,
   "metadata": {},
   "outputs": [
    {
     "ename": "SyntaxError",
     "evalue": "invalid syntax (3862588863.py, line 3)",
     "output_type": "error",
     "traceback": [
      "\u001b[1;36m  File \u001b[1;32m\"C:\\Users\\Dylan\\AppData\\Local\\Temp\\ipykernel_1592\\3862588863.py\"\u001b[1;36m, line \u001b[1;32m3\u001b[0m\n\u001b[1;33m    \"my age is %d and name is %s\" (%int(my_age), %instructor_two)\u001b[0m\n\u001b[1;37m                                   ^\u001b[0m\n\u001b[1;31mSyntaxError\u001b[0m\u001b[1;31m:\u001b[0m invalid syntax\n"
     ]
    }
   ],
   "source": [
    "\"My name is %s\" %instructor_two\n",
    "\n",
    "\"my age is %d and name is %s\" %(int(my_age), instructor_two)"
   ]
  },
  {
   "cell_type": "code",
   "execution_count": null,
   "metadata": {},
   "outputs": [],
   "source": []
  },
  {
   "cell_type": "markdown",
   "metadata": {},
   "source": [
    "# In-Class Exercise 1 <br>\n",
    "<p>Create a format statement that asks for color, year, make, model and prints out the results</p>"
   ]
  },
  {
   "cell_type": "code",
   "execution_count": 128,
   "metadata": {},
   "outputs": [
    {
     "name": "stdout",
     "output_type": "stream",
     "text": [
      "color: white\n",
      "year: 2007\n",
      "make: honda\n",
      "model: fit\n"
     ]
    },
    {
     "data": {
      "text/plain": [
       "'Your car is a white 2007 honda fit '"
      ]
     },
     "execution_count": 128,
     "metadata": {},
     "output_type": "execute_result"
    }
   ],
   "source": [
    "color= input('color: ')\n",
    "year = input('year: ')\n",
    "make = input('make: ')\n",
    "model = input('model: ')\n",
    "\n",
    "f'Your car is a {color} {year} {make} {model}'"
   ]
  },
  {
   "cell_type": "markdown",
   "metadata": {},
   "source": [
    "### If Statements"
   ]
  },
  {
   "cell_type": "code",
   "execution_count": 140,
   "metadata": {},
   "outputs": [
    {
     "name": "stdout",
     "output_type": "stream",
     "text": [
      "11 > 10\n",
      "true\n",
      "action two\n",
      "still in if\n",
      "1 true\n",
      "either true using or\n",
      "both true 10 < 11 and 9 == 9\n"
     ]
    }
   ],
   "source": [
    "# Available operators: Greater(>), Less(<),Equal(==)\n",
    "# Greater or Equal(>=), Less or Equal (<=)\n",
    "\n",
    "# Truth Tree:\n",
    "# T && F = F\n",
    "# T && T = T\n",
    "# T || F = T\n",
    "# F || T = T\n",
    "# F || F = F\n",
    "\n",
    "if 10 > 11:\n",
    "    print('10 greater than 11')\n",
    "    \n",
    "if 11 > 10:\n",
    "    print('11 > 10')\n",
    "    \n",
    "if True:\n",
    "    print('true')\n",
    "    print('action two')\n",
    "    print('still in if')\n",
    "    \n",
    "if 0:\n",
    "    print('zero')\n",
    "    \n",
    "if 1:\n",
    "    print(1, 'true')\n",
    "    \n",
    "if 10 > 11 and 9 == 9:\n",
    "    print('both true')\n",
    "    \n",
    "if 10 > 11 or 9 == 9:\n",
    "    print('either true using or')\n",
    "    \n",
    "if 10 < 11 and 9 == 9:\n",
    "    print('both true 10 < 11 and 9 == 9')\n",
    "    \n",
    "if 10 > 11 or 9 != 9:\n",
    "    print('either true using or 2')"
   ]
  },
  {
   "cell_type": "markdown",
   "metadata": {},
   "source": [
    "##### 'is' keyword"
   ]
  },
  {
   "cell_type": "code",
   "execution_count": 146,
   "metadata": {
    "scrolled": true
   },
   "outputs": [
    {
     "name": "stdout",
     "output_type": "stream",
     "text": [
      "actuual copies\n",
      "{'foo': 'bar'}\n"
     ]
    }
   ],
   "source": [
    "# if 9 is 9:\n",
    "#     print('is true')\n",
    "    \n",
    "my_dict = {'foo':'bar'}\n",
    "my_dict_copy = {'foo':'bar'}\n",
    "actual_copy = my_dict\n",
    "\n",
    "if my_dict is my_dict_copy:\n",
    "    print('copies')\n",
    "    \n",
    "if my_dict is actual_copy:\n",
    "    print('actuual copies')\n",
    "    print(actual_copy)"
   ]
  },
  {
   "cell_type": "markdown",
   "metadata": {},
   "source": [
    "##### 'in' keyword"
   ]
  },
  {
   "cell_type": "code",
   "execution_count": 156,
   "metadata": {},
   "outputs": [
    {
     "name": "stdout",
     "output_type": "stream",
     "text": [
      "brandt dylan\n",
      "True\n",
      "True\n",
      "False\n",
      "True\n",
      "this will be a strong class\n"
     ]
    }
   ],
   "source": [
    "print(instructors)\n",
    "\n",
    "print('b' in instructors)\n",
    "\n",
    "print('brandt' in instructors)\n",
    "\n",
    "print('Brandt' in instructors)\n",
    "\n",
    "print('d' in instructors)\n",
    "\n",
    "if 'brandt' in instructors:\n",
    "    print('this will be a strong class')"
   ]
  },
  {
   "cell_type": "markdown",
   "metadata": {},
   "source": [
    "##### 'not in' keyword'"
   ]
  },
  {
   "cell_type": "code",
   "execution_count": 159,
   "metadata": {},
   "outputs": [
    {
     "name": "stdout",
     "output_type": "stream",
     "text": [
      "case sensitive\n"
     ]
    }
   ],
   "source": [
    "if 'D' not in 'dylan':\n",
    "    print('case sensitive')"
   ]
  },
  {
   "cell_type": "markdown",
   "metadata": {},
   "source": [
    "# In-Class Exercise 2 <br>\n",
    "<p>Ask user for input, check to see if the letter 'p' is in the input</p>"
   ]
  },
  {
   "cell_type": "code",
   "execution_count": 161,
   "metadata": {},
   "outputs": [
    {
     "name": "stdout",
     "output_type": "stream",
     "text": [
      "name: dave?\n",
      "False\n"
     ]
    }
   ],
   "source": [
    "name = input('name: ')\n",
    "print('p' in name)"
   ]
  },
  {
   "cell_type": "markdown",
   "metadata": {},
   "source": [
    "## Using 'and'/'or' with If Statements"
   ]
  },
  {
   "cell_type": "code",
   "execution_count": null,
   "metadata": {},
   "outputs": [],
   "source": [
    "# see above"
   ]
  },
  {
   "cell_type": "markdown",
   "metadata": {},
   "source": [
    "### Elif Statements"
   ]
  },
  {
   "cell_type": "code",
   "execution_count": 168,
   "metadata": {},
   "outputs": [
    {
     "name": "stdout",
     "output_type": "stream",
     "text": [
      "Maybe not in CT\n"
     ]
    }
   ],
   "source": [
    "if 'ryan' in instructors:\n",
    "    print('ranger')\n",
    "elif 'brian' in instructors:\n",
    "    print('kekambas')\n",
    "elif 'dylan' in instructors:\n",
    "    print('padawans')\n",
    "elif 'brandt' in instructors:\n",
    "    print('also padawans')\n",
    "else:\n",
    "    print('Maybe not in CT')"
   ]
  },
  {
   "cell_type": "markdown",
   "metadata": {},
   "source": [
    "### Else Statements"
   ]
  },
  {
   "cell_type": "code",
   "execution_count": null,
   "metadata": {},
   "outputs": [],
   "source": [
    "# see above"
   ]
  },
  {
   "cell_type": "markdown",
   "metadata": {},
   "source": [
    "### For Loops"
   ]
  },
  {
   "cell_type": "code",
   "execution_count": 175,
   "metadata": {},
   "outputs": [
    {
     "name": "stdout",
     "output_type": "stream",
     "text": [
      "brandt dylan\n",
      "b\n",
      "hello world\n",
      "r\n",
      "hello world\n",
      "a\n",
      "hello world\n",
      "n\n",
      "hello world\n",
      "d\n",
      "hello world\n",
      "t\n",
      "hello world\n",
      " \n",
      "hello world\n",
      "d\n",
      "hello world\n",
      "y\n",
      "hello world\n",
      "l\n",
      "hello world\n",
      "a\n",
      "hello world\n",
      "n\n",
      "hello world\n"
     ]
    }
   ],
   "source": [
    "print(instructors)\n",
    "\n",
    "for e in instructors:\n",
    "    print(e)\n",
    "    print('hello world')"
   ]
  },
  {
   "cell_type": "markdown",
   "metadata": {},
   "source": [
    "##### Using 'in' keyword"
   ]
  },
  {
   "cell_type": "code",
   "execution_count": null,
   "metadata": {},
   "outputs": [],
   "source": [
    "# see above"
   ]
  },
  {
   "cell_type": "markdown",
   "metadata": {},
   "source": [
    "##### Continue Statement"
   ]
  },
  {
   "cell_type": "code",
   "execution_count": null,
   "metadata": {},
   "outputs": [],
   "source": [
    "# will continue to next iteration"
   ]
  },
  {
   "cell_type": "code",
   "execution_count": 176,
   "metadata": {},
   "outputs": [
    {
     "name": "stdout",
     "output_type": "stream",
     "text": [
      "b\n",
      "r\n",
      "a\n",
      "n\n",
      "d\n",
      " \n",
      "d\n",
      "y\n",
      "l\n",
      "a\n",
      "n\n"
     ]
    }
   ],
   "source": [
    "for e in instructors:\n",
    "    if e == 't':\n",
    "        continue\n",
    "    print(e)"
   ]
  },
  {
   "cell_type": "markdown",
   "metadata": {},
   "source": [
    "##### Break Statement"
   ]
  },
  {
   "cell_type": "code",
   "execution_count": null,
   "metadata": {},
   "outputs": [],
   "source": [
    "# will break out of current loop"
   ]
  },
  {
   "cell_type": "code",
   "execution_count": 177,
   "metadata": {},
   "outputs": [
    {
     "name": "stdout",
     "output_type": "stream",
     "text": [
      "b\n",
      "r\n",
      "a\n",
      "n\n",
      "d\n"
     ]
    }
   ],
   "source": [
    "for e in instructors:\n",
    "    if e == 't':\n",
    "        break\n",
    "    print(e)"
   ]
  },
  {
   "cell_type": "markdown",
   "metadata": {},
   "source": [
    "##### Pass Statement"
   ]
  },
  {
   "cell_type": "code",
   "execution_count": null,
   "metadata": {},
   "outputs": [],
   "source": [
    "# mostly used as a placeholder, and will continue on same iteration"
   ]
  },
  {
   "cell_type": "code",
   "execution_count": 178,
   "metadata": {},
   "outputs": [
    {
     "name": "stdout",
     "output_type": "stream",
     "text": [
      "b\n",
      "r\n",
      "a\n",
      "n\n",
      "d\n",
      "t\n",
      " \n",
      "d\n",
      "y\n",
      "l\n",
      "a\n",
      "n\n"
     ]
    }
   ],
   "source": [
    "for e in instructors:\n",
    "    if e == 't':\n",
    "        pass\n",
    "    print(e)"
   ]
  },
  {
   "cell_type": "markdown",
   "metadata": {},
   "source": [
    "##### Double For Loops"
   ]
  },
  {
   "cell_type": "code",
   "execution_count": 184,
   "metadata": {},
   "outputs": [
    {
     "name": "stdout",
     "output_type": "stream",
     "text": [
      "letter = 'd' letter_two = 'd'\n",
      "1\n",
      "letter = 'd' letter_two = 'y'\n",
      "6\n",
      "letter = 'd' letter_two = 'l'\n",
      "11\n",
      "letter = 'd' letter_two = 'a'\n",
      "16\n",
      "letter = 'd' letter_two = 'n'\n",
      "21\n",
      "letter = 'y' letter_two = 'd'\n",
      "26\n",
      "letter = 'y' letter_two = 'y'\n",
      "31\n",
      "letter = 'y' letter_two = 'l'\n",
      "36\n",
      "letter = 'y' letter_two = 'a'\n",
      "41\n",
      "letter = 'y' letter_two = 'n'\n",
      "46\n",
      "letter = 'l' letter_two = 'd'\n",
      "51\n",
      "letter = 'l' letter_two = 'y'\n",
      "56\n",
      "letter = 'l' letter_two = 'l'\n",
      "61\n",
      "letter = 'l' letter_two = 'a'\n",
      "66\n",
      "letter = 'l' letter_two = 'n'\n",
      "71\n",
      "letter = 'a' letter_two = 'd'\n",
      "76\n",
      "letter = 'a' letter_two = 'y'\n",
      "81\n",
      "letter = 'a' letter_two = 'l'\n",
      "86\n",
      "letter = 'a' letter_two = 'a'\n",
      "91\n",
      "letter = 'a' letter_two = 'n'\n",
      "96\n",
      "letter = 'n' letter_two = 'd'\n",
      "101\n",
      "letter = 'n' letter_two = 'y'\n",
      "106\n",
      "letter = 'n' letter_two = 'l'\n",
      "111\n",
      "letter = 'n' letter_two = 'a'\n",
      "116\n",
      "letter = 'n' letter_two = 'n'\n",
      "121\n"
     ]
    }
   ],
   "source": [
    "step = 1\n",
    "for letter in 'dylan':\n",
    "    for letter_two in 'dylan':\n",
    "        print(f'{letter = } {letter_two = }')\n",
    "        print(step)\n",
    "        step += 1"
   ]
  },
  {
   "cell_type": "markdown",
   "metadata": {},
   "source": [
    "### While Loops"
   ]
  },
  {
   "cell_type": "code",
   "execution_count": 188,
   "metadata": {},
   "outputs": [
    {
     "name": "stdout",
     "output_type": "stream",
     "text": [
      "0\n",
      "1\n",
      "2\n",
      "3\n",
      "4\n",
      "5\n",
      "6\n",
      "7\n",
      "8\n",
      "9\n",
      "10 loop is done\n"
     ]
    }
   ],
   "source": [
    "num = 0\n",
    "while num < 10:\n",
    "    print(num)\n",
    "    num += 1\n",
    "print(num, \"loop is done\")"
   ]
  },
  {
   "cell_type": "markdown",
   "metadata": {},
   "source": [
    "##### Looping 'While True'"
   ]
  },
  {
   "cell_type": "code",
   "execution_count": 190,
   "metadata": {},
   "outputs": [
    {
     "name": "stdout",
     "output_type": "stream",
     "text": [
      "True be careful\n",
      "True be careful\n",
      "True be careful\n",
      "True be careful\n",
      "True be careful\n",
      "True be careful\n",
      "True be careful\n",
      "True be careful\n",
      "True be careful\n",
      "True be careful\n",
      "True be careful\n",
      "True be careful\n",
      "True be careful\n",
      "True be careful\n",
      "True be careful\n"
     ]
    }
   ],
   "source": [
    "num = 0\n",
    "while True:\n",
    "    print(True, 'be careful')\n",
    "    num += 1\n",
    "    if num == 15:\n",
    "        break"
   ]
  },
  {
   "cell_type": "code",
   "execution_count": 192,
   "metadata": {},
   "outputs": [],
   "source": [
    "flag = True\n",
    "num = 0\n",
    "while flag:\n",
    "    num += 1\n",
    "    if num == 15:\n",
    "        flag = False"
   ]
  },
  {
   "cell_type": "markdown",
   "metadata": {},
   "source": [
    "##### While & For Loops Used Together"
   ]
  },
  {
   "cell_type": "code",
   "execution_count": 194,
   "metadata": {},
   "outputs": [
    {
     "name": "stdout",
     "output_type": "stream",
     "text": [
      "num = 0 letter = 'b'\n",
      "num = 0 letter = 'r'\n",
      "num = 0 letter = 'a'\n",
      "num = 0 letter = 'n'\n",
      "num = 0 letter = 'd'\n",
      "num = 0 letter = 't'\n",
      "num = 1 letter = 'b'\n",
      "num = 1 letter = 'r'\n",
      "num = 1 letter = 'a'\n",
      "num = 1 letter = 'n'\n",
      "num = 1 letter = 'd'\n",
      "num = 1 letter = 't'\n",
      "num = 2 letter = 'b'\n",
      "num = 2 letter = 'r'\n",
      "num = 2 letter = 'a'\n",
      "num = 2 letter = 'n'\n",
      "num = 2 letter = 'd'\n",
      "num = 2 letter = 't'\n",
      "num = 3 letter = 'b'\n",
      "num = 3 letter = 'r'\n",
      "num = 3 letter = 'a'\n",
      "num = 3 letter = 'n'\n",
      "num = 3 letter = 'd'\n",
      "num = 3 letter = 't'\n",
      "num = 4 letter = 'b'\n",
      "num = 4 letter = 'r'\n",
      "num = 4 letter = 'a'\n",
      "num = 4 letter = 'n'\n",
      "num = 4 letter = 'd'\n",
      "num = 4 letter = 't'\n",
      "num = 5 letter = 'b'\n",
      "num = 5 letter = 'r'\n",
      "num = 5 letter = 'a'\n",
      "num = 5 letter = 'n'\n",
      "num = 5 letter = 'd'\n",
      "num = 5 letter = 't'\n",
      "num = 6 letter = 'b'\n",
      "num = 6 letter = 'r'\n",
      "num = 6 letter = 'a'\n",
      "num = 6 letter = 'n'\n",
      "num = 6 letter = 'd'\n",
      "num = 6 letter = 't'\n",
      "num = 7 letter = 'b'\n",
      "num = 7 letter = 'r'\n",
      "num = 7 letter = 'a'\n",
      "num = 7 letter = 'n'\n",
      "num = 7 letter = 'd'\n",
      "num = 7 letter = 't'\n",
      "num = 8 letter = 'b'\n",
      "num = 8 letter = 'r'\n",
      "num = 8 letter = 'a'\n",
      "num = 8 letter = 'n'\n",
      "num = 8 letter = 'd'\n",
      "num = 8 letter = 't'\n",
      "num = 9 letter = 'b'\n",
      "num = 9 letter = 'r'\n",
      "num = 9 letter = 'a'\n",
      "num = 9 letter = 'n'\n",
      "num = 9 letter = 'd'\n",
      "num = 9 letter = 't'\n"
     ]
    }
   ],
   "source": [
    "num = 0\n",
    "while num < 10:\n",
    "    for letter in 'brandt':\n",
    "        print(f'{num = } {letter = }')\n",
    "    num += 1"
   ]
  },
  {
   "cell_type": "markdown",
   "metadata": {},
   "source": [
    "### Built-In Functions"
   ]
  },
  {
   "cell_type": "markdown",
   "metadata": {},
   "source": [
    "##### range()"
   ]
  },
  {
   "cell_type": "code",
   "execution_count": 200,
   "metadata": {},
   "outputs": [
    {
     "name": "stdout",
     "output_type": "stream",
     "text": [
      "2\n",
      "4\n",
      "6\n",
      "8\n"
     ]
    }
   ],
   "source": [
    "# range(start, stop, step)\n",
    "\n",
    "# for num in range(0, 10, 1):\n",
    "#     print(num)\n",
    "    \n",
    "for even in range(2, 10, 2):\n",
    "    print(even)"
   ]
  },
  {
   "cell_type": "markdown",
   "metadata": {},
   "source": [
    "##### len()"
   ]
  },
  {
   "cell_type": "code",
   "execution_count": 209,
   "metadata": {},
   "outputs": [
    {
     "name": "stdout",
     "output_type": "stream",
     "text": [
      "0 d\n",
      "1 y\n",
      "2 l\n",
      "3 a\n",
      "4 n\n"
     ]
    }
   ],
   "source": [
    "# print(len('dylan'))\n",
    "\n",
    "# list(range(5))\n",
    "ins = 'dylan'\n",
    "for i in range(len(ins)):\n",
    "    print(i, end = ' ')\n",
    "    print(ins[i])"
   ]
  },
  {
   "cell_type": "markdown",
   "metadata": {},
   "source": [
    "##### help()"
   ]
  },
  {
   "cell_type": "code",
   "execution_count": null,
   "metadata": {},
   "outputs": [],
   "source": []
  },
  {
   "cell_type": "markdown",
   "metadata": {},
   "source": [
    "##### isinstance()"
   ]
  },
  {
   "cell_type": "code",
   "execution_count": 213,
   "metadata": {},
   "outputs": [
    {
     "name": "stdout",
     "output_type": "stream",
     "text": [
      "True\n",
      "False\n",
      "True\n"
     ]
    }
   ],
   "source": [
    "print(isinstance(ins, str))\n",
    "print(isinstance(ins, int))\n",
    "print(isinstance(10, int))"
   ]
  },
  {
   "cell_type": "markdown",
   "metadata": {},
   "source": [
    "##### abs()"
   ]
  },
  {
   "cell_type": "code",
   "execution_count": 214,
   "metadata": {},
   "outputs": [
    {
     "data": {
      "text/plain": [
       "5"
      ]
     },
     "execution_count": 214,
     "metadata": {},
     "output_type": "execute_result"
    }
   ],
   "source": [
    "abs(-5)"
   ]
  },
  {
   "cell_type": "markdown",
   "metadata": {},
   "source": [
    "### Try and Except"
   ]
  },
  {
   "cell_type": "code",
   "execution_count": null,
   "metadata": {},
   "outputs": [],
   "source": []
  },
  {
   "cell_type": "markdown",
   "metadata": {},
   "source": [
    "### Lists"
   ]
  },
  {
   "cell_type": "markdown",
   "metadata": {},
   "source": [
    "##### Declaring Lists"
   ]
  },
  {
   "cell_type": "code",
   "execution_count": 218,
   "metadata": {},
   "outputs": [
    {
     "name": "stdout",
     "output_type": "stream",
     "text": [
      "[1, 2, 3, 4, 29]\n"
     ]
    }
   ],
   "source": [
    "alist = []\n",
    "type(alist)\n",
    "\n",
    "num_list = [1,2,3,4,29]\n",
    "\n",
    "print(num_list)"
   ]
  },
  {
   "cell_type": "markdown",
   "metadata": {},
   "source": [
    "##### Indexing a List"
   ]
  },
  {
   "cell_type": "code",
   "execution_count": 222,
   "metadata": {},
   "outputs": [
    {
     "data": {
      "text/plain": [
       "3"
      ]
     },
     "execution_count": 222,
     "metadata": {},
     "output_type": "execute_result"
    }
   ],
   "source": [
    "num_list[0]\n",
    "num_list[-1]\n",
    "num_list[len(num_list)-1]\n",
    "\n",
    "num_list[2]"
   ]
  },
  {
   "cell_type": "markdown",
   "metadata": {},
   "source": [
    "##### .append()"
   ]
  },
  {
   "cell_type": "code",
   "execution_count": 228,
   "metadata": {},
   "outputs": [
    {
     "name": "stdout",
     "output_type": "stream",
     "text": [
      "[1, 2, 3, 4, 29, 100]\n"
     ]
    }
   ],
   "source": [
    "num_list.append(100)\n",
    "\n",
    "print(num_list)"
   ]
  },
  {
   "cell_type": "markdown",
   "metadata": {},
   "source": [
    "##### .insert()"
   ]
  },
  {
   "cell_type": "code",
   "execution_count": 229,
   "metadata": {},
   "outputs": [
    {
     "name": "stdout",
     "output_type": "stream",
     "text": [
      "[1, 10, 2, 3, 4, 29, 100]\n"
     ]
    }
   ],
   "source": [
    "num_list.insert(1, 10)\n",
    "print(num_list)"
   ]
  },
  {
   "cell_type": "markdown",
   "metadata": {},
   "source": [
    "##### .pop()"
   ]
  },
  {
   "cell_type": "code",
   "execution_count": 231,
   "metadata": {},
   "outputs": [
    {
     "name": "stdout",
     "output_type": "stream",
     "text": [
      "[1, 10, 2, 3, 4, 29, 100]\n",
      "[1, 2, 3, 4, 29, 100]\n",
      "10\n"
     ]
    }
   ],
   "source": [
    "# num_list.pop()\n",
    "\n",
    "print(num_list)\n",
    "\n",
    "ten = num_list.pop(1)\n",
    "print(num_list)\n",
    "print(ten)"
   ]
  },
  {
   "cell_type": "markdown",
   "metadata": {},
   "source": [
    "\n",
    "##### .remove()"
   ]
  },
  {
   "cell_type": "code",
   "execution_count": 232,
   "metadata": {},
   "outputs": [
    {
     "name": "stdout",
     "output_type": "stream",
     "text": [
      "[1, 2, 3, 4, 29, 100]\n",
      "[1, 2, 3, 4, 100]\n"
     ]
    }
   ],
   "source": [
    "print(num_list)\n",
    "num_list.remove(29)\n",
    "print(num_list)"
   ]
  },
  {
   "cell_type": "markdown",
   "metadata": {},
   "source": [
    "##### del()"
   ]
  },
  {
   "cell_type": "code",
   "execution_count": null,
   "metadata": {},
   "outputs": [],
   "source": []
  },
  {
   "cell_type": "markdown",
   "metadata": {},
   "source": [
    "##### Concatenating Two Lists"
   ]
  },
  {
   "cell_type": "code",
   "execution_count": 234,
   "metadata": {},
   "outputs": [
    {
     "data": {
      "text/plain": [
       "[1, 2, 3, 4, 100, 1, 23]"
      ]
     },
     "execution_count": 234,
     "metadata": {},
     "output_type": "execute_result"
    }
   ],
   "source": [
    "num_list + [1,23]"
   ]
  },
  {
   "cell_type": "markdown",
   "metadata": {},
   "source": [
    "##### Lists Within Lists"
   ]
  },
  {
   "cell_type": "code",
   "execution_count": 235,
   "metadata": {},
   "outputs": [
    {
     "data": {
      "text/plain": [
       "[1, 12, 3, [1, 2, 3]]"
      ]
     },
     "execution_count": 235,
     "metadata": {},
     "output_type": "execute_result"
    }
   ],
   "source": [
    "[1,12,3,[1,2,3]]"
   ]
  },
  {
   "cell_type": "markdown",
   "metadata": {},
   "source": [
    "##### Looping Through Lists"
   ]
  },
  {
   "cell_type": "code",
   "execution_count": null,
   "metadata": {},
   "outputs": [],
   "source": []
  },
  {
   "cell_type": "markdown",
   "metadata": {},
   "source": [
    "## Exercise #1 <br>\n",
    "<p>Cube Number Test... Print out all cubed numbers up to the total value 1000. Meaning that if the cubed number is over 1000 break the loop.</p>"
   ]
  },
  {
   "cell_type": "code",
   "execution_count": null,
   "metadata": {},
   "outputs": [],
   "source": []
  },
  {
   "cell_type": "markdown",
   "metadata": {},
   "source": [
    "## Exercise #2 <br>\n",
    "<p>Get first prime numbers up to 100</p>"
   ]
  },
  {
   "cell_type": "code",
   "execution_count": null,
   "metadata": {},
   "outputs": [],
   "source": [
    "# HINT::\n",
    "# An else after an if runs if the if didn’t\n",
    "# An else after a for runs if the for didn’t break\n",
    "\n",
    "\n"
   ]
  },
  {
   "cell_type": "markdown",
   "metadata": {},
   "source": [
    "# Exercise 3 <br>\n",
    "<p>Take in a users input for their age, if they are younger than 18 print kids, if they're 18 to 65 print adults, else print seniors</p>"
   ]
  },
  {
   "cell_type": "code",
   "execution_count": null,
   "metadata": {},
   "outputs": [],
   "source": []
  }
 ],
 "metadata": {
  "kernelspec": {
   "display_name": "Python 3 (ipykernel)",
   "language": "python",
   "name": "python3"
  },
  "language_info": {
   "codemirror_mode": {
    "name": "ipython",
    "version": 3
   },
   "file_extension": ".py",
   "mimetype": "text/x-python",
   "name": "python",
   "nbconvert_exporter": "python",
   "pygments_lexer": "ipython3",
   "version": "3.9.13"
  }
 },
 "nbformat": 4,
 "nbformat_minor": 2
}
